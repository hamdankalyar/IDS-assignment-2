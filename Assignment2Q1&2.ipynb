{
  "nbformat": 4,
  "nbformat_minor": 0,
  "metadata": {
    "colab": {
      "provenance": [],
      "toc_visible": true,
      "authorship_tag": "ABX9TyPH5+teInIgjOnxbUou9EG5",
      "include_colab_link": true
    },
    "kernelspec": {
      "name": "python3",
      "display_name": "Python 3"
    },
    "language_info": {
      "name": "python"
    }
  },
  "cells": [
    {
      "cell_type": "markdown",
      "metadata": {
        "id": "view-in-github",
        "colab_type": "text"
      },
      "source": [
        "<a href=\"https://colab.research.google.com/github/hamdankalyar/IDS-assignment-2/blob/main/Assignment2Q1%262.ipynb\" target=\"_parent\"><img src=\"https://colab.research.google.com/assets/colab-badge.svg\" alt=\"Open In Colab\"/></a>"
      ]
    },
    {
      "cell_type": "markdown",
      "source": [
        "# 28-03-24\n",
        "# CSC461 – Assignment2 – IDS – Data Visualization\n",
        "# Your Full Name\n",
        "# FA20-BSE-058\n",
        "# In this task, we analyzed population data from a world population dataset spanning from 1960 to 2020. We visualized the populations of the top 10 most populated countries in 2020 over the entire period,"
      ],
      "metadata": {
        "id": "zvD_c_IbdN64"
      }
    },
    {
      "cell_type": "code",
      "execution_count": null,
      "metadata": {
        "id": "pVKl8wX0gSBv"
      },
      "outputs": [],
      "source": [
        "import pandas as pd  # For data manipulation\n",
        "import matplotlib.pyplot as plt  # For data visualization\n"
      ]
    },
    {
      "cell_type": "code",
      "source": [
        "df = pd.read_csv('./sample_data/world_pop.csv') # load the data"
      ],
      "metadata": {
        "id": "tx6fT_68hIYB"
      },
      "execution_count": null,
      "outputs": []
    },
    {
      "cell_type": "code",
      "source": [
        "df.head(1)"
      ],
      "metadata": {
        "id": "Q7xHTTcBic1i"
      },
      "execution_count": null,
      "outputs": []
    },
    {
      "cell_type": "code",
      "source": [
        "# Melt the DataFrame to convert it from wide format to long format\n",
        "df_melted = df.melt(id_vars=['country'], var_name='Year', value_name='Population')\n",
        "df_melted['Year'] = df_melted['Year'].str.replace('year_', '').astype(int)  # Convert 'Year' to integer.\n"
      ],
      "metadata": {
        "id": "kOa1pG7sjIfY"
      },
      "execution_count": null,
      "outputs": []
    },
    {
      "cell_type": "code",
      "source": [
        "# Filter to get the top 10 countries based on population in 2020\n",
        "top_10_countries_2020 = df_melted[df_melted['Year'] == 2020].nlargest(10, 'Population')['country']\n"
      ],
      "metadata": {
        "id": "vftJEZvGjL5F"
      },
      "execution_count": null,
      "outputs": []
    },
    {
      "cell_type": "code",
      "source": [
        "# Filter the melted DataFrame to only include data for the top 10 countries\n",
        "df_top_10 = df_melted[df_melted['country'].isin(top_10_countries_2020)]\n"
      ],
      "metadata": {
        "id": "jbSZfermjPVI"
      },
      "execution_count": null,
      "outputs": []
    },
    {
      "cell_type": "code",
      "source": [
        "plt.figure(figsize=(14, 8))  # Set the size of the figure for the plot\n",
        "\n",
        "# Loop through each country in the top 10 and plot their population over time\n",
        "for country in top_10_countries_2020:\n",
        "    country_data = df_top_10[df_top_10['country'] == country]\n",
        "    plt.plot(country_data['Year'], country_data['Population'], marker='o', label=country)\n",
        "\n",
        "# Set the title of the plot and customize font size\n",
        "plt.title('Population Growth of the Top 10 Most Populated Countries (1960-2020)', fontsize=16)\n",
        "# Label the x-axis and customize font size\n",
        "plt.xlabel('Year', fontsize=14)\n",
        "# Label the y-axis and customize font size\n",
        "plt.ylabel('Population', fontsize=14)\n",
        "# Set x-axis ticks to every 5 years and rotate them for better readability\n",
        "plt.xticks(range(1960, 2021, 5), rotation=45)\n",
        "# Display a legend outside the plot area\n",
        "plt.legend(title='Country', bbox_to_anchor=(1.05, 1), loc='upper left')\n",
        "# Add a grid to the plot for easier reading\n",
        "plt.grid(True)\n",
        "# Adjust layout to make room for the legend\n",
        "plt.tight_layout()\n",
        "# Display the plot\n",
        "plt.show()\n"
      ],
      "metadata": {
        "id": "AQnZSYBcjSNH"
      },
      "execution_count": null,
      "outputs": []
    },
    {
      "cell_type": "markdown",
      "source": [
        "**QUESTION 2**\n",
        "*displayed the population of the 10 least populous countries in 2015, and calculated and visualized the population change from 1970 to 2010 for Pakistan, India, United States, and United Kingdom. Additionally, we calculated and visualized Pakistan's population growth between 2010 and 2020.*\n",
        "\n",
        "\n",
        "\n"
      ],
      "metadata": {
        "id": "hLhnqvuCd3bI"
      }
    },
    {
      "cell_type": "code",
      "source": [
        "# For showing the population of the 10 least populous countries in 2015:\n",
        "least_populous_2015 = df.nsmallest(10, 'year_2015')[['country', 'year_2015']].set_index('country')\n",
        "least_populous_2015.plot(kind='bar', legend=None)\n",
        "plt.title('10 Least Populous Countries in 2015')\n",
        "plt.xlabel('Country')\n",
        "plt.ylabel('Population')\n",
        "plt.tight_layout()\n",
        "plt.show()"
      ],
      "metadata": {
        "id": "ZS81f1LNlwLd"
      },
      "execution_count": null,
      "outputs": []
    },
    {
      "cell_type": "code",
      "source": [
        "# For calculating and showing the population change from 1970 to 2010:\n",
        "df['population_change_1970_to_2010'] = (df['year_2010'] - df['year_1970']) / 1e6 # Convert to millions\n",
        "selected_countries_change = df[df['country'].isin(['Pakistan', 'India', 'United States', 'United Kingdom'])]\n",
        "selected_countries_change.plot(x='country', y='population_change_1970_to_2010', kind='bar')\n",
        "plt.title('Population Change from 1970 to 2010 (in millions)')\n",
        "plt.ylabel('Population Change (in millions)')\n",
        "plt.xlabel('Country')\n",
        "plt.tight_layout()\n",
        "plt.show()"
      ],
      "metadata": {
        "id": "EwPOcyskl2kT"
      },
      "execution_count": null,
      "outputs": []
    },
    {
      "cell_type": "code",
      "source": [
        "# For calculating and showing Pakistan's population growth from 2010 to 2020:\n",
        "pakistan_growth = (df[df['country'] == 'Pakistan']['year_2020'] - df[df['country'] == 'Pakistan']['year_2010']) / 1e6\n",
        "pakistan_growth.plot(kind='bar')\n",
        "plt.title('Pakistan Population Growth from 2010 to 2020 (in millions)')\n",
        "plt.ylabel('Population Growth (in millions)')\n",
        "plt.xlabel('Year')\n",
        "plt.xticks([])\n",
        "plt.tight_layout()\n",
        "plt.show()\n"
      ],
      "metadata": {
        "id": "1ZC9YfKEmBxg"
      },
      "execution_count": null,
      "outputs": []
    }
  ]
}